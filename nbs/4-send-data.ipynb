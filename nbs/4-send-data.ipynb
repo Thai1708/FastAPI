{
 "cells": [
  {
   "cell_type": "code",
   "execution_count": 1,
   "id": "b6cf94ee",
   "metadata": {},
   "outputs": [],
   "source": [
    "import requests\n",
    "import json"
   ]
  },
  {
   "cell_type": "code",
   "execution_count": 7,
   "id": "b235e425",
   "metadata": {},
   "outputs": [
    {
     "name": "stdout",
     "output_type": "stream",
     "text": [
      "<class 'dict'>\n"
     ]
    }
   ],
   "source": [
    "data = {\"path\": \"/test+\"}\n",
    "print(type(data))"
   ]
  },
  {
   "cell_type": "code",
   "execution_count": 9,
   "id": "1417da60",
   "metadata": {},
   "outputs": [
    {
     "name": "stdout",
     "output_type": "stream",
     "text": [
      "<class 'str'>\n",
      "{\"path\": \"/test+\"}\n"
     ]
    }
   ],
   "source": [
    "payload = json.dumps(data)\n",
    "print(type(payload))\n",
    "print(payload)"
   ]
  },
  {
   "cell_type": "markdown",
   "id": "86b6022e",
   "metadata": {},
   "source": [
    "# put method"
   ]
  },
  {
   "cell_type": "code",
   "execution_count": 42,
   "id": "33641499",
   "metadata": {},
   "outputs": [
    {
     "name": "stdout",
     "output_type": "stream",
     "text": [
      "{'id': 23, 'school': 'Bach Khoa'}\n"
     ]
    }
   ],
   "source": [
    "path = \"/api/events/thai/13\"\n",
    "base_url = \"http://localhost:8002\" # 127.0.0.1\n",
    "update_endpoint = f\"{base_url}{path}\"\n",
    "\n",
    "response = requests.put(update_endpoint, json={\"description\": \"Toi la Thai\"})\n",
    "\n",
    "if response.ok:\n",
    "    data = response.json()\n",
    "    print(data)\n",
    "else:\n",
    "    print(response.text)"
   ]
  },
  {
   "cell_type": "code",
   "execution_count": 2,
   "id": "e2012e2b",
   "metadata": {},
   "outputs": [],
   "source": [
    "path = \"/api/events/\"\n",
    "base_url = \"http://localhost:8002\" # 127.0.0.1\n",
    "update_endpoint = f\"{base_url}{path}\"\n",
    "\n",
    "response = requests.get(update_endpoint)"
   ]
  }
 ],
 "metadata": {
  "kernelspec": {
   "display_name": "Python 3",
   "language": "python",
   "name": "python3"
  },
  "language_info": {
   "codemirror_mode": {
    "name": "ipython",
    "version": 3
   },
   "file_extension": ".py",
   "mimetype": "text/x-python",
   "name": "python",
   "nbconvert_exporter": "python",
   "pygments_lexer": "ipython3",
   "version": "3.11.11"
  }
 },
 "nbformat": 4,
 "nbformat_minor": 5
}
